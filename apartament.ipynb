{
  "nbformat": 4,
  "nbformat_minor": 0,
  "metadata": {
    "colab": {
      "name": "Untitled8.ipynb",
      "provenance": [],
      "collapsed_sections": [],
      "include_colab_link": true
    },
    "kernelspec": {
      "name": "python3",
      "display_name": "Python 3"
    }
  },
  "cells": [
    {
      "cell_type": "markdown",
      "metadata": {
        "id": "view-in-github",
        "colab_type": "text"
      },
      "source": [
        "<a href=\"https://colab.research.google.com/github/dimbasamster/Face-Detection-JavaScript-master/blob/master/apartament.ipynb\" target=\"_parent\"><img src=\"https://colab.research.google.com/assets/colab-badge.svg\" alt=\"Open In Colab\"/></a>"
      ]
    },
    {
      "cell_type": "code",
      "metadata": {
        "id": "vyEBHQwzL9G6",
        "colab_type": "code",
        "colab": {
          "base_uri": "https://localhost:8080/",
          "height": 68
        },
        "outputId": "771f7046-f2e7-431d-b556-1bb11d6acdd6"
      },
      "source": [
        "import numpy as np\n",
        "from sklearn import datasets\n",
        "from sklearn.svm import SVR\n",
        "from sklearn.metrics import mean_squared_error, explained_variance_score\n",
        "from sklearn.utils import shuffle\n",
        "data = datasets.load_boston()\n",
        "X, y = shuffle(data.data, data.target, random_state=7)\n",
        "num_training = int(0.8 * len(X))\n",
        "X_train, y_train = X[:num_training], y[:num_training]\n",
        "X_test, y_test = X[num_training:], y[num_training:]\n",
        "sv_regressor = SVR(kernel='linear', C=1.0, epsilon=0.1)\n",
        "sv_regressor.fit(X_train, y_train)"
      ],
      "execution_count": 8,
      "outputs": [
        {
          "output_type": "execute_result",
          "data": {
            "text/plain": [
              "SVR(C=1.0, cache_size=200, coef0=0.0, degree=3, epsilon=0.1,\n",
              "    gamma='auto_deprecated', kernel='linear', max_iter=-1, shrinking=True,\n",
              "    tol=0.001, verbose=False)"
            ]
          },
          "metadata": {
            "tags": []
          },
          "execution_count": 8
        }
      ]
    },
    {
      "cell_type": "code",
      "metadata": {
        "id": "lnODMhiyM9p6",
        "colab_type": "code",
        "colab": {
          "base_uri": "https://localhost:8080/",
          "height": 85
        },
        "outputId": "b3e2e08a-a3c6-4f11-84b8-6412c6137f6c"
      },
      "source": [
        "y_test_pred = sv_regressor.predict(X_test)\n",
        "mse = mean_squared_error(y_test, y_test_pred)\n",
        "evs = explained_variance_score(y_test, y_test_pred) \n",
        "print(\"\\n#### Performance ####\")\n",
        "print(\"Mean squared error =\", round(mse, 2))\n",
        "print(\"Explained variance score =\", round(evs, 2))"
      ],
      "execution_count": 11,
      "outputs": [
        {
          "output_type": "stream",
          "text": [
            "\n",
            "#### Performance ####\n",
            "Mean squared error = 15.38\n",
            "Explained variance score = 0.82\n"
          ],
          "name": "stdout"
        }
      ]
    },
    {
      "cell_type": "code",
      "metadata": {
        "id": "KjgCpWQ5NVFL",
        "colab_type": "code",
        "colab": {
          "base_uri": "https://localhost:8080/",
          "height": 51
        },
        "outputId": "52366973-5fd4-4fe9-ea77-305596ce1bcf"
      },
      "source": [
        "test_data = [3.7, 0, 18.4, 1, 0.87, 5.95, 91, 2.5052, 26, 666, 20.2, 351.34, 15.27]\n",
        "print(\"\\nPredicted price:\", sv_regressor.predict([test_data])[0])\n"
      ],
      "execution_count": 12,
      "outputs": [
        {
          "output_type": "stream",
          "text": [
            "\n",
            "Predicted price: 18.521780107258536\n"
          ],
          "name": "stdout"
        }
      ]
    }
  ]
}