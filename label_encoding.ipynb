{
  "nbformat": 4,
  "nbformat_minor": 0,
  "metadata": {
    "colab": {
      "name": "label encoding.ipynb",
      "provenance": [],
      "include_colab_link": true
    },
    "kernelspec": {
      "name": "python3",
      "display_name": "Python 3"
    }
  },
  "cells": [
    {
      "cell_type": "markdown",
      "metadata": {
        "id": "view-in-github",
        "colab_type": "text"
      },
      "source": [
        "<a href=\"https://colab.research.google.com/github/dimbasamster/Face-Detection-JavaScript-master/blob/master/label_encoding.ipynb\" target=\"_parent\"><img src=\"https://colab.research.google.com/assets/colab-badge.svg\" alt=\"Open In Colab\"/></a>"
      ]
    },
    {
      "cell_type": "code",
      "metadata": {
        "id": "J8r1ezqSuJS-",
        "colab_type": "code",
        "colab": {}
      },
      "source": [
        "import numpy as np\n",
        "from sklearn import preprocessing \n",
        "# Предоставление меток входных данных \n",
        "input_labels = ['red', 'blасk', 'red', 'green', 'black', 'yellow', 'white']"
      ],
      "execution_count": 0,
      "outputs": []
    },
    {
      "cell_type": "code",
      "metadata": {
        "id": "412qCSSXvS-g",
        "colab_type": "code",
        "colab": {
          "base_uri": "https://localhost:8080/",
          "height": 153
        },
        "outputId": "8306ab9f-9d89-4227-b7b5-28c52a424a8b"
      },
      "source": [
        "# Создание кодировщика и установление соответствия  между метками и числами \n",
        "encoder = preprocessing.LabelEncoder()\n",
        "encoder.fit(input_labels) \n",
        "# Вывод отображения \n",
        "print(\"\\nLabel mapping:\")\n",
        "for i, item in enumerate(encoder.classes_) : \n",
        "  print(item, '-->', i)"
      ],
      "execution_count": 6,
      "outputs": [
        {
          "output_type": "stream",
          "text": [
            "\n",
            "Label mapping:\n",
            "black --> 0\n",
            "blасk --> 1\n",
            "green --> 2\n",
            "red --> 3\n",
            "white --> 4\n",
            "yellow --> 5\n"
          ],
          "name": "stdout"
        }
      ]
    },
    {
      "cell_type": "code",
      "metadata": {
        "id": "m9SKYhryxBKj",
        "colab_type": "code",
        "colab": {
          "base_uri": "https://localhost:8080/",
          "height": 68
        },
        "outputId": "02e81760-6097-40c3-e5ef-e4a58e27d65d"
      },
      "source": [
        "#preobraz.encoder\n",
        "test_labels = ['green', 'red', 'black']\n",
        "encoded_values = encoder.transform(test_labels)\n",
        "print(\"\\nLabels =\", test_labels)\n",
        "print(\"Encoded values =\", list(encoded_values) )\n"
      ],
      "execution_count": 8,
      "outputs": [
        {
          "output_type": "stream",
          "text": [
            "\n",
            "Labels = ['green', 'red', 'black']\n",
            "Encoded values = [2, 3, 0]\n"
          ],
          "name": "stdout"
        }
      ]
    },
    {
      "cell_type": "code",
      "metadata": {
        "id": "KZC79L7uyyIX",
        "colab_type": "code",
        "colab": {
          "base_uri": "https://localhost:8080/",
          "height": 68
        },
        "outputId": "691aa7ca-0d8e-4dab-b28d-472e5c3991b4"
      },
      "source": [
        "# Декодирование набора чисел с помощью декодера \n",
        "encoded_values = [3, 0, 4, 1]\n",
        "decoded_list = encoder.inverse_transform(encoded_values)\n",
        "print(\"\\nEncoded values =\", encoded_values)\n",
        "print(\"Decoded labels =\", list (decoded_list)) \n"
      ],
      "execution_count": 12,
      "outputs": [
        {
          "output_type": "stream",
          "text": [
            "\n",
            "Encoded values = [3, 0, 4, 1]\n",
            "Decoded labels = ['red', 'black', 'white', 'blасk']\n"
          ],
          "name": "stdout"
        }
      ]
    },
    {
      "cell_type": "code",
      "metadata": {
        "id": "BQ3PvKnO0UPw",
        "colab_type": "code",
        "colab": {}
      },
      "source": [
        ""
      ],
      "execution_count": 0,
      "outputs": []
    }
  ]
}